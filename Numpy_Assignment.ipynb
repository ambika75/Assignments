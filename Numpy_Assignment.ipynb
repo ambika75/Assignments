{
 "cells": [
  {
   "cell_type": "code",
   "execution_count": 1,
   "metadata": {},
   "outputs": [],
   "source": [
    "import numpy as np\n",
    "# function for Alexandre-Theophile Vandermonde.\n",
    "\n",
    "def vander(arr,boolean):\n",
    "    N= len(arr)\n",
    "    if boolean == False:\n",
    "        print(np.column_stack([arr**(N-1-i) for i in range(N)]))\n",
    "    elif boolean ==True:\n",
    "        print(np.column_stack([arr**(N-1-i) for i in range(N-1,-1,-1)]))"
   ]
  },
  {
   "cell_type": "code",
   "execution_count": 2,
   "metadata": {},
   "outputs": [
    {
     "name": "stdout",
     "output_type": "stream",
     "text": [
      "[[   1    1    1    1    1    1]\n",
      " [   1    2    4    8   16   32]\n",
      " [   1    3    9   27   81  243]\n",
      " [   1    4   16   64  256 1024]\n",
      " [   1    5   25  125  625 3125]\n",
      " [   1    6   36  216 1296 7776]]\n"
     ]
    }
   ],
   "source": [
    "# Output in increasing order\n",
    "lst=[1,2,3,4,5,6]\n",
    "arr=np.array(lst)\n",
    "vander(arr,True)"
   ]
  },
  {
   "cell_type": "code",
   "execution_count": 3,
   "metadata": {},
   "outputs": [
    {
     "name": "stdout",
     "output_type": "stream",
     "text": [
      "[[   1    1    1    1    1    1]\n",
      " [  32   16    8    4    2    1]\n",
      " [ 243   81   27    9    3    1]\n",
      " [1024  256   64   16    4    1]\n",
      " [3125  625  125   25    5    1]\n",
      " [7776 1296  216   36    6    1]]\n"
     ]
    }
   ],
   "source": [
    "#output in decreasing order\n",
    "lst=[1,2,3,4,5,6]\n",
    "arr=np.array(lst)\n",
    "vander(arr,False)"
   ]
  },
  {
   "cell_type": "markdown",
   "metadata": {},
   "source": [
    "Moving Average"
   ]
  },
  {
   "cell_type": "code",
   "execution_count": 4,
   "metadata": {},
   "outputs": [],
   "source": [
    "#Function for moving average\n",
    "lst_t =[]\n",
    "def mov_avg(lst,k):\n",
    "    n=0\n",
    "    N =len(lst)\n",
    "    z=k\n",
    "    iter = N-k+1\n",
    "    for i in range (iter):\n",
    "        lst_t = lst[n:k]\n",
    "        print(\"Moving average \",i+1,\" :\",sum(lst_t)/z )\n",
    "        n=n+1\n",
    "        k=k+1\n",
    "    "
   ]
  },
  {
   "cell_type": "code",
   "execution_count": 5,
   "metadata": {},
   "outputs": [
    {
     "name": "stdout",
     "output_type": "stream",
     "text": [
      "Moving average  1  : 5.0\n",
      "Moving average  2  : 4.666666666666667\n",
      "Moving average  3  : 5.666666666666667\n",
      "Moving average  4  : 6.666666666666667\n",
      "Moving average  5  : 9.666666666666666\n",
      "Moving average  6  : 28.666666666666668\n",
      "Moving average  7  : 49.333333333333336\n",
      "Moving average  8  : 72.66666666666667\n",
      "Moving average  9  : 84.0\n",
      "Moving average  10  : 93.33333333333333\n",
      "Moving average  11  : 116.33333333333333\n"
     ]
    }
   ],
   "source": [
    "lst=[3, 5, 7, 2, 8, 10, 11, 65, 72, 81, 99, 100, 150]\n",
    "mov_avg(lst,3)"
   ]
  }
 ],
 "metadata": {
  "kernelspec": {
   "display_name": "Python 3",
   "language": "python",
   "name": "python3"
  },
  "language_info": {
   "codemirror_mode": {
    "name": "ipython",
    "version": 3
   },
   "file_extension": ".py",
   "mimetype": "text/x-python",
   "name": "python",
   "nbconvert_exporter": "python",
   "pygments_lexer": "ipython3",
   "version": "3.7.4"
  }
 },
 "nbformat": 4,
 "nbformat_minor": 4
}
