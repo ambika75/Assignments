{
 "cells": [
  {
   "cell_type": "markdown",
   "metadata": {},
   "source": [
    "1.1 Area of Trangle"
   ]
  },
  {
   "cell_type": "code",
   "execution_count": 1,
   "metadata": {},
   "outputs": [],
   "source": [
    "#Parent Class\n",
    "class Par():\n",
    "    def __init__(self):\n",
    "        pass\n",
    "    def get_input(self):\n",
    "        self.a = int(input(\"Enter the value of a:\"))\n",
    "        self.b = int(input(\"Enter the value of b:\"))\n",
    "        self.c = int(input(\"Enter the value of c:\"))\n",
    "        self.s = int((self.a+self.b+self.c)/2)\n",
    "        "
   ]
  },
  {
   "cell_type": "code",
   "execution_count": 2,
   "metadata": {},
   "outputs": [],
   "source": [
    "# Child class\n",
    "class Sub(Par):\n",
    "    def __init__(self):\n",
    "        pass\n",
    "    def area(self):\n",
    "        self.get_input()\n",
    "        self.area =  (self.s*(self.s-self.a)*(self.s-self.b)*(self.s-self.c)) ** 0.5\n",
    "        return self.area"
   ]
  },
  {
   "cell_type": "code",
   "execution_count": 3,
   "metadata": {},
   "outputs": [
    {
     "name": "stdout",
     "output_type": "stream",
     "text": [
      "Enter the value of a:3\n",
      "Enter the value of b:4\n",
      "Enter the value of c:5\n",
      "Area of Triangle is  6.0\n"
     ]
    }
   ],
   "source": [
    "cal = Sub()\n",
    "result = cal.area()\n",
    "print(\"Area of Triangle is \",result)\n"
   ]
  },
  {
   "cell_type": "markdown",
   "metadata": {},
   "source": [
    "1.2 Fltering Long words"
   ]
  },
  {
   "cell_type": "code",
   "execution_count": 4,
   "metadata": {},
   "outputs": [],
   "source": [
    "def filter_long_words(lst,n):\n",
    "    lst_op = []\n",
    "    for str in lst:\n",
    "        if len(str) > n:\n",
    "            lst_op.append(str)\n",
    "    return lst_op"
   ]
  },
  {
   "cell_type": "code",
   "execution_count": 5,
   "metadata": {},
   "outputs": [
    {
     "name": "stdout",
     "output_type": "stream",
     "text": [
      " Enter the strings seperated by <space> a ab abc abcd abcde abcdef\n",
      "Enter the value of N: 3\n",
      "['abcd', 'abcde', 'abcdef']\n"
     ]
    }
   ],
   "source": [
    "str_ip = input(\" Enter the strings seperated by <space> \")\n",
    "lst = str_ip.split()\n",
    "n= int(input(\"Enter the value of N: \"))\n",
    "str_op = filter_long_words(lst,n)\n",
    "print(str_op)"
   ]
  },
  {
   "cell_type": "markdown",
   "metadata": {},
   "source": [
    "2.1 Calculating length of string using Map"
   ]
  },
  {
   "cell_type": "code",
   "execution_count": 6,
   "metadata": {},
   "outputs": [
    {
     "name": "stdout",
     "output_type": "stream",
     "text": [
      " Enter the strings seperated by <space> a ab abc abcd abcde abcdef\n",
      "[1, 2, 3, 4, 5, 6]\n"
     ]
    }
   ],
   "source": [
    "str_ip = input(\" Enter the strings seperated by <space> \")\n",
    "lst = str_ip.split()\n",
    "lst_op = list(map(lambda x:len(x) ,lst))\n",
    "print (lst_op)"
   ]
  },
  {
   "cell_type": "markdown",
   "metadata": {},
   "source": [
    "2.2 Finding whether input char is vowel or not"
   ]
  },
  {
   "cell_type": "code",
   "execution_count": 7,
   "metadata": {},
   "outputs": [
    {
     "name": "stdout",
     "output_type": "stream",
     "text": [
      "Enter a charcater:abcde\n",
      "Please enter only one character: u\n",
      "True\n"
     ]
    }
   ],
   "source": [
    "def vowel():\n",
    "    char = input('Enter a charcater:')\n",
    "    while len(char) !=1:\n",
    "        char = input('Please enter only one character: ')\n",
    "    \n",
    "    if char in [\"a\",\"e\",\"i\",\"o\",\"u\"]:\n",
    "        print(True)\n",
    "    else:\n",
    "        print(False)\n",
    "vowel()"
   ]
  }
 ],
 "metadata": {
  "kernelspec": {
   "display_name": "Python 3",
   "language": "python",
   "name": "python3"
  },
  "language_info": {
   "codemirror_mode": {
    "name": "ipython",
    "version": 3
   },
   "file_extension": ".py",
   "mimetype": "text/x-python",
   "name": "python",
   "nbconvert_exporter": "python",
   "pygments_lexer": "ipython3",
   "version": "3.7.4"
  }
 },
 "nbformat": 4,
 "nbformat_minor": 4
}
